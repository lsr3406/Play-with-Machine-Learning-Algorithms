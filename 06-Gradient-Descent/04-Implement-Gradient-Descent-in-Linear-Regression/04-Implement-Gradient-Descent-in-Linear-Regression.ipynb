{
 "cells": [
  {
   "cell_type": "markdown",
   "metadata": {},
   "source": [
    "# 在线性回归模型中使用梯度下降法"
   ]
  },
  {
   "cell_type": "code",
   "execution_count": 1,
   "metadata": {},
   "outputs": [],
   "source": [
    "import numpy as np\n",
    "import matplotlib.pyplot as plt"
   ]
  },
  {
   "cell_type": "code",
   "execution_count": 2,
   "metadata": {},
   "outputs": [
    {
     "data": {
      "image/png": "[encoded data removed]",
      "text/plain": [
       "<matplotlib.figure.Figure at 0x7f18d85beeb8>"
      ]
     },
     "metadata": {},
     "output_type": "display_data"
    }
   ],
   "source": [
    "np.random.seed(666)\n",
    "x = np.random.rand(100)\n",
    "y = 3 * x + 4 + np.random.normal(0, 1, size=(100))\n",
    "X = x.reshape(-1, 1)\n",
    "\n",
    "plt.scatter(X[:, 0],  y, color=\"#f44336\")\n",
    "plt.show()"
   ]
  },
  {
   "cell_type": "code",
   "execution_count": 3,
   "metadata": {},
   "outputs": [],
   "source": [
    "def J(theta, X_b, y):\n",
    "    try:\n",
    "        return np.var(y - X_b.dot(theta))\n",
    "    except:\n",
    "        return float('inf')\n",
    "def dJ(theta, X_b, y):\n",
    "    try: \n",
    "        return X_b.T.dot(X_b.dot(theta) - y) * 2. / y.size\n",
    "    except:\n",
    "        return float('inf')"
   ]
  },
  {
   "cell_type": "code",
   "execution_count": 4,
   "metadata": {},
   "outputs": [],
   "source": [
    "X_b = np.hstack([np.ones((X.shape[0], 1)), X])\n",
    "\n",
    "epsilon = 1e-8\n",
    "eta = 0.01\n",
    "theta = np.zeros((X_b.shape[1]))\n",
    "theta_history = [theta.copy()]\n",
    "n_iter = 0"
   ]
  },
  {
   "cell_type": "code",
   "execution_count": 5,
   "metadata": {},
   "outputs": [
    {
     "name": "stdout",
     "output_type": "stream",
     "text": [
      "[ 4.02692682  3.00426351]\n",
      "1.09887297738\n"
     ]
    }
   ],
   "source": [
    "last_J = J(theta, X_b, y)\n",
    "while n_iter < 1e4:\n",
    "    gradient = dJ(theta, X_b, y)\n",
    "    theta -= eta * gradient\n",
    "    theta_history.append(theta.copy())\n",
    "    current_J = J(theta, X_b, y)\n",
    "    \n",
    "    if np.abs(current_J - last_J) < epsilon:\n",
    "        break\n",
    "    \n",
    "    last_J = current_J\n",
    "    n_iter += 1\n",
    "\n",
    "print(theta)\n",
    "print(current_J)"
   ]
  },
  {
   "cell_type": "code",
   "execution_count": 6,
   "metadata": {},
   "outputs": [
    {
     "data": {
      "image/png": "[encoded data removed]",
      "text/plain": [
       "<matplotlib.figure.Figure at 0x7f18d85be550>"
      ]
     },
     "metadata": {},
     "output_type": "display_data"
    }
   ],
   "source": [
    "indexes = np.argsort(x)\n",
    "plt.scatter(x[indexes], y[indexes], color=\"#f44336\")\n",
    "plt.plot(x[indexes], X_b.dot(theta)[indexes], color=\"#e91e63\")\n",
    "plt.show()"
   ]
  },
  {
   "cell_type": "code",
   "execution_count": 7,
   "metadata": {},
   "outputs": [
    {
     "data": {
      "image/png": "[encoded data removed]",
      "text/plain": [
       "<matplotlib.figure.Figure at 0x7f18d85be710>"
      ]
     },
     "metadata": {},
     "output_type": "display_data"
    }
   ],
   "source": [
    "theta_array = np.array(theta_history)\n",
    "J_history = [J(theta_item, X_b, y) for theta_item in theta_history]\n",
    "J_history = np.array(J_history)\n",
    "plt.plot(np.arange(0, J_history.size), J_history)\n",
    "plt.show()"
   ]
  },
  {
   "cell_type": "markdown",
   "metadata": {},
   "source": [
    "#### 实现我们自己的线性回归(gradient_descent)"
   ]
  },
  {
   "cell_type": "code",
   "execution_count": 8,
   "metadata": {},
   "outputs": [
    {
     "data": {
      "text/plain": [
       "LinearRegression()"
      ]
     },
     "execution_count": 8,
     "metadata": {},
     "output_type": "execute_result"
    }
   ],
   "source": [
    "from playML.LinearRegression import LinearRegression\n",
    "\n",
    "reg = LinearRegression()\n",
    "reg.fit_gd(X, y)"
   ]
  },
  {
   "cell_type": "code",
   "execution_count": 9,
   "metadata": {},
   "outputs": [
    {
     "name": "stdout",
     "output_type": "stream",
     "text": [
      "[ 3.00758444]\n",
      "4.02516406843\n"
     ]
    }
   ],
   "source": [
    "print(reg.coef_)\n",
    "print(reg.intercept_)"
   ]
  }
 ],
 "metadata": {
  "kernelspec": {
   "display_name": "Python 3",
   "language": "python",
   "name": "python3"
  },
  "language_info": {
   "codemirror_mode": {
    "name": "ipython",
    "version": 3
   },
   "file_extension": ".py",
   "mimetype": "text/x-python",
   "name": "python",
   "nbconvert_exporter": "python",
   "pygments_lexer": "ipython3",
   "version": "3.6.5"
  }
 },
 "nbformat": 4,
 "nbformat_minor": 2
}
