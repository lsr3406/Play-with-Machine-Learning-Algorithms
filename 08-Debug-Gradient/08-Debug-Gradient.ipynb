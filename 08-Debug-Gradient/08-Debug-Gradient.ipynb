{
 "cells": [
  {
   "cell_type": "markdown",
   "metadata": {},
   "source": [
    "# 关于梯度的计算调试"
   ]
  },
  {
   "cell_type": "code",
   "execution_count": 1,
   "metadata": {},
   "outputs": [],
   "source": [
    "import numpy as np\n",
    "import matplotlib.pyplot as plt\n",
    "from sklearn.metrics import r2_score"
   ]
  },
  {
   "cell_type": "code",
   "execution_count": 2,
   "metadata": {},
   "outputs": [],
   "source": [
    "np.random.seed(666)\n",
    "X = np.random.random(size=(1000, 10))\n",
    "\n",
    "X_b = np.hstack([np.ones((X.shape[0], 1)), X])\n",
    "true_theta = np.random.randint(-5, 5, (11,))\n",
    "y = X_b.dot(true_theta)"
   ]
  },
  {
   "cell_type": "markdown",
   "metadata": {},
   "source": [
    "#### 完成原函数与导数"
   ]
  },
  {
   "cell_type": "code",
   "execution_count": 3,
   "metadata": {},
   "outputs": [],
   "source": [
    "def J(theta, X_b, y):\n",
    "    return np.linalg.norm(X_b.dot(theta) - y)"
   ]
  },
  {
   "cell_type": "code",
   "execution_count": 4,
   "metadata": {},
   "outputs": [],
   "source": [
    "def dJ_math(theta, X_b, y):\n",
    "    return 2 * X_b.T.dot(X_b.dot(theta) - y) / y.shape[0]"
   ]
  },
  {
   "cell_type": "code",
   "execution_count": 5,
   "metadata": {},
   "outputs": [],
   "source": [
    "def dJ_debug(theta, X_b, y, epsilon=1e-8):\n",
    "    res = np.zeros((X_b.shape[1]))\n",
    "    for k in range(X_b.shape[1]):\n",
    "        theta_p = theta.copy()\n",
    "        theta_p[k] += epsilon\n",
    "        theta_n = theta.copy()\n",
    "        theta_n[k] -= epsilon\n",
    "        res[k] = (J(theta_p, X_b, y) - J(theta_n, X_b, y)) / 2 / epsilon\n",
    "    return res"
   ]
  },
  {
   "cell_type": "code",
   "execution_count": 6,
   "metadata": {},
   "outputs": [],
   "source": [
    "def gradient_descent(X_b, y, initial_theta, eta=0.1, epsilon=1e-8, n_iters_max=1000):\n",
    "    n_iters = 0\n",
    "    theta = initial_theta.copy()\n",
    "    previous_J = J(theta, X_b, y)\n",
    "    while n_iters < n_iters_max:\n",
    "        gradient = dJ_math(theta, X_b, y)\n",
    "#         gradient = dJ_debug(theta, X_b, y)\n",
    "        theta -= eta * gradient\n",
    "        current_J = J(theta, X_b, y)\n",
    "        if np.abs(current_J - previous_J) < epsilon:\n",
    "            break\n",
    "        previous_J = current_J\n",
    "        n_iters += 1\n",
    "    return theta"
   ]
  },
  {
   "cell_type": "code",
   "execution_count": 7,
   "metadata": {},
   "outputs": [],
   "source": [
    "initial_theta = np.zeros((X_b.shape[1]))"
   ]
  },
  {
   "cell_type": "code",
   "execution_count": 8,
   "metadata": {},
   "outputs": [
    {
     "name": "stdout",
     "output_type": "stream",
     "text": [
      "CPU times: user 45.7 ms, sys: 76 µs, total: 45.8 ms\n",
      "Wall time: 45.4 ms\n"
     ]
    },
    {
     "data": {
      "text/plain": [
       "0.99997711163984782"
      ]
     },
     "execution_count": 8,
     "metadata": {},
     "output_type": "execute_result"
    }
   ],
   "source": [
    "%time theta = gradient_descent(X_b, y, initial_theta)\n",
    "r2_score(true_theta, theta)"
   ]
  }
 ],
 "metadata": {
  "kernelspec": {
   "display_name": "Python 3",
   "language": "python",
   "name": "python3"
  },
  "language_info": {
   "codemirror_mode": {
    "name": "ipython",
    "version": 3
   },
   "file_extension": ".py",
   "mimetype": "text/x-python",
   "name": "python",
   "nbconvert_exporter": "python",
   "pygments_lexer": "ipython3",
   "version": "3.6.5"
  }
 },
 "nbformat": 4,
 "nbformat_minor": 2
}
