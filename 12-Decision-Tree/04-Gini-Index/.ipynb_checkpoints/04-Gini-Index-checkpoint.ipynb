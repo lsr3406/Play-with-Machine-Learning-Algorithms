{
 "cells": [
  {
   "cell_type": "markdown",
   "metadata": {},
   "source": [
    "# 基尼系数"
   ]
  },
  {
   "cell_type": "code",
   "execution_count": 1,
   "metadata": {},
   "outputs": [],
   "source": [
    "import numpy as np\n",
    "import matplotlib.pyplot as plt\n",
    "from sklearn.datasets import load_iris"
   ]
  },
  {
   "cell_type": "code",
   "execution_count": 2,
   "metadata": {},
   "outputs": [],
   "source": [
    "iris = load_iris()\n",
    "X = iris.data[:, 2:]\n",
    "y = iris.target\n",
    "\n",
    "axis = [\n",
    "    X[:, 0].min()*1.1 - X[:, 0].max()*0.1,\n",
    "    X[:, 0].max()*1.1 - X[:, 0].min()*0.1,\n",
    "    X[:, 1].min()*1.1 - X[:, 1].max()*0.1,\n",
    "    X[:, 1].max()*1.1 - X[:, 1].min()*0.1\n",
    "]"
   ]
  },
  {
   "cell_type": "code",
   "execution_count": 3,
   "metadata": {},
   "outputs": [
    {
     "data": {
      "text/plain": [
       "DecisionTreeClassifier(class_weight=None, criterion='gini', max_depth=2,\n",
       "            max_features=None, max_leaf_nodes=None,\n",
       "            min_impurity_decrease=0.0, min_impurity_split=None,\n",
       "            min_samples_leaf=1, min_samples_split=2,\n",
       "            min_weight_fraction_leaf=0.0, presort=False, random_state=42,\n",
       "            splitter='best')"
      ]
     },
     "execution_count": 3,
     "metadata": {},
     "output_type": "execute_result"
    }
   ],
   "source": [
    "from sklearn.tree import DecisionTreeClassifier\n",
    "\n",
    "dt_clf = DecisionTreeClassifier(max_depth=2, criterion=\"gini\", random_state=42)\n",
    "dt_clf.fit(X, y)"
   ]
  },
  {
   "cell_type": "code",
   "execution_count": 4,
   "metadata": {},
   "outputs": [],
   "source": [
    "def plot_decision_boundary(algo, axis):\n",
    "    \n",
    "    x0 = np.linspace(axis[0], axis[1], int(100 * (axis[1]-axis[0])))\n",
    "    x1 = np.linspace(axis[2], axis[3], int(100 * (axis[3]-axis[2])))\n",
    "    x0, x1 = np.meshgrid(x0, x1)\n",
    "    \n",
    "    X_new = np.c_[x0.ravel(), x1.ravel()]\n",
    "    y_predict = algo.predict(X_new)\n",
    "    z = y_predict.reshape(x0.shape)\n",
    "    \n",
    "    from matplotlib.colors import ListedColormap\n",
    "    custom_map = ListedColormap([\"#f9a19a\", \"#90caf9\", \"#ffcb7f\"])\n",
    "    \n",
    "    plt.contourf(x0, x1, z, linewidth=5, cmap=custom_map)"
   ]
  },
  {
   "cell_type": "code",
   "execution_count": 5,
   "metadata": {},
   "outputs": [
    {
     "name": "stderr",
     "output_type": "stream",
     "text": [
      "/usr/lib/python3/dist-packages/matplotlib/contour.py:967: UserWarning: The following kwargs were not used by contour: 'linewidth'\n",
      "  s)\n"
     ]
    },
    {
     "data": {
      "image/png": "[encoded data removed]",
      "text/plain": [
       "<matplotlib.figure.Figure at 0x7ff7f01a1588>"
      ]
     },
     "metadata": {},
     "output_type": "display_data"
    }
   ],
   "source": [
    "plot_decision_boundary(dt_clf, axis)\n",
    "plt.scatter(X[y==0, 0], X[y==0, 1], color=\"#f44336\")\n",
    "plt.scatter(X[y==1, 0], X[y==1, 1], color=\"#2196f3\")\n",
    "plt.scatter(X[y==2, 0], X[y==2, 1], color=\"#ff9800\")\n",
    "plt.show()"
   ]
  },
  {
   "cell_type": "markdown",
   "metadata": {},
   "source": [
    "#### 模拟使用基尼系数划分"
   ]
  },
  {
   "cell_type": "code",
   "execution_count": 6,
   "metadata": {},
   "outputs": [],
   "source": [
    "from collections import Counter\n",
    "def split(X, y, d, v):\n",
    "    index_l = X[:, d] <= v\n",
    "    index_r = X[:, d] > v\n",
    "    return X[index_l], X[index_r], y[index_l], y[index_r]\n",
    "def gini(y):\n",
    "    counter = Counter(y)\n",
    "    res = 1.0\n",
    "    for count in counter.values():\n",
    "        p = count / len(y)\n",
    "        res -= p ** 2\n",
    "    return res"
   ]
  },
  {
   "cell_type": "code",
   "execution_count": 7,
   "metadata": {},
   "outputs": [],
   "source": [
    "def try_split(X, y):\n",
    "    best_gini, best_d, best_p = float(\"inf\"), -1, -1\n",
    "    for d in range(X.shape[1]):\n",
    "        indexes = np.argsort(X[:, d])\n",
    "        for k in range(1, X.shape[0]):\n",
    "            if X[indexes[k-1], d] < X[indexes[k], d]:\n",
    "                v = (X[indexes[k-1], d] + X[indexes[k], d]) / 2\n",
    "                X_l, X_r, y_l, y_r = split(X, y, d, v)\n",
    "                p_l, p_r = len(X_l) / len(X), len(X_r) / len(X)\n",
    "                e = p_l * gini(y_l) + p_r * gini(y_r)\n",
    "                if e < best_gini:\n",
    "                    best_gini, best_d, best_v = e, d, v\n",
    "    return best_gini, best_d, best_v"
   ]
  },
  {
   "cell_type": "code",
   "execution_count": 8,
   "metadata": {},
   "outputs": [
    {
     "name": "stdout",
     "output_type": "stream",
     "text": [
      "0.3333333333333333 0 2.45\n",
      "0.0 0.5\n"
     ]
    }
   ],
   "source": [
    "best_gini, best_d, best_v = try_split(X, y)\n",
    "X1_l, X1_r, y1_l, y1_r = split(X, y, best_d, best_v)\n",
    "print(best_gini, best_d, best_v)\n",
    "print(gini(y1_l), gini(y1_r))"
   ]
  },
  {
   "cell_type": "code",
   "execution_count": 9,
   "metadata": {},
   "outputs": [
    {
     "name": "stdout",
     "output_type": "stream",
     "text": [
      "0.1103059581320451 1 1.75\n",
      "0.5445636094674556 0.04253308128544431\n"
     ]
    }
   ],
   "source": [
    "best_gini, best_d, best_v = try_split(X1_r, y1_r)\n",
    "X2_l, X2_r, y2_l, y2_r = split(X, y, best_d, best_v)\n",
    "print(best_gini, best_d, best_v)\n",
    "print(gini(y2_l), gini(y2_r))"
   ]
  }
 ],
 "metadata": {
  "kernelspec": {
   "display_name": "Python 3",
   "language": "python",
   "name": "python3"
  },
  "language_info": {
   "codemirror_mode": {
    "name": "ipython",
    "version": 3
   },
   "file_extension": ".py",
   "mimetype": "text/x-python",
   "name": "python",
   "nbconvert_exporter": "python",
   "pygments_lexer": "ipython3",
   "version": "3.6.5"
  }
 },
 "nbformat": 4,
 "nbformat_minor": 2
}
