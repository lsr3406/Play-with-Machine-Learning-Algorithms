{
 "cells": [
  {
   "cell_type": "markdown",
   "metadata": {},
   "source": [
    "# 获得前n个主成分"
   ]
  },
  {
   "cell_type": "code",
   "execution_count": 1,
   "metadata": {},
   "outputs": [],
   "source": [
    "import numpy as np\n",
    "import matplotlib.pyplot as plt"
   ]
  },
  {
   "cell_type": "code",
   "execution_count": 2,
   "metadata": {},
   "outputs": [],
   "source": [
    "X = np.empty((100, 2))\n",
    "X[:, 0] = np.random.uniform(-1, 1, (100,))\n",
    "X[:, 1] = 0.75 * X[:, 0] + 1\n",
    "X += np.random.normal(0, 0.1, X.shape)"
   ]
  },
  {
   "cell_type": "code",
   "execution_count": 3,
   "metadata": {},
   "outputs": [],
   "source": [
    "def demean(X):\n",
    "    return X - X.mean(axis=0)\n",
    "X_demean = demean(X)"
   ]
  },
  {
   "cell_type": "code",
   "execution_count": 4,
   "metadata": {},
   "outputs": [
    {
     "data": {
      "image/png": "[encoded data removed]",
      "text/plain": [
       "<matplotlib.figure.Figure at 0x7f3ddd1917b8>"
      ]
     },
     "metadata": {},
     "output_type": "display_data"
    }
   ],
   "source": [
    "plt.scatter(X_demean[:, 0], X[:, 1])\n",
    "plt.show()"
   ]
  },
  {
   "cell_type": "code",
   "execution_count": 5,
   "metadata": {},
   "outputs": [],
   "source": [
    "def f(w, X):\n",
    "    return np.sum(X.dot(w) ** 2) / X.shape[0]\n",
    "def df(w, X):\n",
    "    return 2 * X.T.dot(X.dot(w)) / X.shape[0]\n",
    "def direction(w):\n",
    "    return w / np.linalg.norm(w)\n",
    "def gradient_ascent(X, initial_w, eta=0.1, epsilon=1e-8, n_iters_max=1000):\n",
    "    w = direction(initial_w)\n",
    "    previous_f = f(w, X)\n",
    "    n_iters = 0\n",
    "    while n_iters < n_iters_max:\n",
    "        gradient = df(w, X)\n",
    "        w = direction(w + eta * gradient)\n",
    "        current_f = f(w, X)\n",
    "        if np.abs(current_f - previous_f) < epsilon:\n",
    "            break;\n",
    "        previous_f = current_f\n",
    "        n_iters += 1\n",
    "    return w\n",
    "def first_component(X):\n",
    "    initial_w = np.random.normal(0, 1, (X.shape[1],))\n",
    "    return gradient_ascent(X, initial_w)"
   ]
  },
  {
   "cell_type": "code",
   "execution_count": 6,
   "metadata": {},
   "outputs": [],
   "source": [
    "X_original = X.copy()\n",
    "\n",
    "w1 = first_component(X)\n",
    "X1 = X.dot(w1)\n",
    "X -= X1.reshape(-1, 1) * w1.reshape(1, -1)"
   ]
  },
  {
   "cell_type": "code",
   "execution_count": 7,
   "metadata": {},
   "outputs": [
    {
     "data": {
      "image/png": "[encoded data removed]",
      "text/plain": [
       "<matplotlib.figure.Figure at 0x7f3dfc3c8828>"
      ]
     },
     "metadata": {},
     "output_type": "display_data"
    }
   ],
   "source": [
    "plt.scatter(X[:, 0], X[:, 1])\n",
    "plt.show()"
   ]
  },
  {
   "cell_type": "code",
   "execution_count": 8,
   "metadata": {},
   "outputs": [
    {
     "name": "stdout",
     "output_type": "stream",
     "text": [
      "0.000723401789768\n"
     ]
    }
   ],
   "source": [
    "w2 = first_component(X)\n",
    "X2 = X.dot(w2)\n",
    "X -= X2.reshape(-1, 1) * w2.reshape(1, -1)\n",
    "\n",
    "print(np.max(np.abs(X)))"
   ]
  }
 ],
 "metadata": {
  "kernelspec": {
   "display_name": "Python 3",
   "language": "python",
   "name": "python3"
  },
  "language_info": {
   "codemirror_mode": {
    "name": "ipython",
    "version": 3
   },
   "file_extension": ".py",
   "mimetype": "text/x-python",
   "name": "python",
   "nbconvert_exporter": "python",
   "pygments_lexer": "ipython3",
   "version": "3.6.5"
  }
 },
 "nbformat": 4,
 "nbformat_minor": 2
}
