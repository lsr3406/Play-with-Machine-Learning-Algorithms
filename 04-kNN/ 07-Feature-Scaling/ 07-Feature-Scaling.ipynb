{
 "cells": [
  {
   "cell_type": "markdown",
   "metadata": {},
   "source": [
    "# 07 数据归一化处理"
   ]
  },
  {
   "cell_type": "markdown",
   "metadata": {},
   "source": [
    "### 1. 最值归一化\n",
    "$$\n",
    "x_{\\rm nomalized} = \\frac{x - x_{\\rm min}}{x_{\\rm max} - x_{\\rm min}}\n",
    "$$\n",
    "<br>\n",
    "最值归一化适用于分布有明显边界的情况, 受 outlier 影响大"
   ]
  },
  {
   "cell_type": "code",
   "execution_count": 1,
   "metadata": {},
   "outputs": [],
   "source": [
    "import numpy as np\n",
    "import matplotlib.pyplot as plt"
   ]
  },
  {
   "cell_type": "code",
   "execution_count": 2,
   "metadata": {},
   "outputs": [
    {
     "data": {
      "text/plain": [
       "array([ 2,  7, 54, 52, 98,  4, 28, 10,  0, 61])"
      ]
     },
     "execution_count": 2,
     "metadata": {},
     "output_type": "execute_result"
    }
   ],
   "source": [
    "x = np.random.randint(0, 100, 100)\n",
    "x[:10]"
   ]
  },
  {
   "cell_type": "code",
   "execution_count": 3,
   "metadata": {},
   "outputs": [
    {
     "data": {
      "text/plain": [
       "array([ 0.02040816,  0.07142857,  0.55102041,  0.53061224,  1.        ,\n",
       "        0.04081633,  0.28571429,  0.10204082,  0.        ,  0.62244898])"
      ]
     },
     "execution_count": 3,
     "metadata": {},
     "output_type": "execute_result"
    }
   ],
   "source": [
    "x_nomalized = (x - np.min(x)) / (np.max(x) - np.min(x))\n",
    "x_nomalized[:10]"
   ]
  },
  {
   "cell_type": "code",
   "execution_count": 4,
   "metadata": {},
   "outputs": [
    {
     "data": {
      "text/plain": [
       "array([[ 28.,  11.],\n",
       "       [ 28.,  87.],\n",
       "       [ 29.,  55.],\n",
       "       [ 80.,   5.],\n",
       "       [ 28.,   9.]])"
      ]
     },
     "execution_count": 4,
     "metadata": {},
     "output_type": "execute_result"
    }
   ],
   "source": [
    "X = np.random.randint(0, 100, size=(50, 2))\n",
    "X = np.array(X, dtype=float)\n",
    "X[:5, :]"
   ]
  },
  {
   "cell_type": "code",
   "execution_count": 5,
   "metadata": {},
   "outputs": [
    {
     "data": {
      "text/plain": [
       "array([[ 0.2755102 ,  0.1122449 ],\n",
       "       [ 0.2755102 ,  0.8877551 ],\n",
       "       [ 0.28571429,  0.56122449],\n",
       "       [ 0.80612245,  0.05102041],\n",
       "       [ 0.2755102 ,  0.09183673]])"
      ]
     },
     "execution_count": 5,
     "metadata": {},
     "output_type": "execute_result"
    }
   ],
   "source": [
    "X_nomalized = (X - np.min(X, axis=0)) / (np.max(X, axis=0) - np.min(X, axis=0))\n",
    "X_nomalized[:5]"
   ]
  },
  {
   "cell_type": "code",
   "execution_count": 6,
   "metadata": {},
   "outputs": [
    {
     "data": {
      "image/png": "[encoded data removed]",
      "text/plain": [
       "<matplotlib.figure.Figure at 0x7feeeedd2860>"
      ]
     },
     "metadata": {},
     "output_type": "display_data"
    }
   ],
   "source": [
    "plt.scatter(X_nomalized[:, 0], X_nomalized[:, 1])\n",
    "plt.show()"
   ]
  },
  {
   "cell_type": "code",
   "execution_count": 7,
   "metadata": {},
   "outputs": [
    {
     "name": "stdout",
     "output_type": "stream",
     "text": [
      "[ 0.43693878  0.55285714]\n",
      "[ 0.26003148  0.28051902]\n"
     ]
    }
   ],
   "source": [
    "print(X_nomalized.mean(axis=0))\n",
    "print(X_nomalized.std(axis=0))"
   ]
  },
  {
   "cell_type": "markdown",
   "metadata": {},
   "source": [
    "### 2. 均值方差归一化\n",
    "$$\n",
    "x_{\\rm standard} = \\frac{x - \\mu}{\\sigma}\n",
    "$$\n",
    "<br>\n",
    "适用于数据分布没有明显边界, 可能存在极端数据值的情况"
   ]
  },
  {
   "cell_type": "code",
   "execution_count": 8,
   "metadata": {},
   "outputs": [
    {
     "data": {
      "text/plain": [
       "array([-1.57124684, -1.40057045,  0.20378761,  0.13551705,  1.70573983,\n",
       "       -1.50297628, -0.68372962, -1.29816462, -1.6395174 ,  0.44273455])"
      ]
     },
     "execution_count": 8,
     "metadata": {},
     "output_type": "execute_result"
    }
   ],
   "source": [
    "x_standard = (x - np.mean(x)) / (np.std(x))\n",
    "x_standard[:10]"
   ]
  },
  {
   "cell_type": "code",
   "execution_count": 9,
   "metadata": {},
   "outputs": [
    {
     "name": "stdout",
     "output_type": "stream",
     "text": [
      "-1.55431223448e-17\n",
      "1.0\n"
     ]
    }
   ],
   "source": [
    "print(np.mean(x_standard))\n",
    "print(np.std(x_standard))"
   ]
  },
  {
   "cell_type": "code",
   "execution_count": 10,
   "metadata": {},
   "outputs": [
    {
     "data": {
      "text/plain": [
       "array([[-0.62080397, -1.57070364],\n",
       "       [-0.62080397,  1.19385117],\n",
       "       [-0.58156225,  0.02982809],\n",
       "       [ 1.41976533, -1.78895796],\n",
       "       [-0.62080397, -1.64345508]])"
      ]
     },
     "execution_count": 10,
     "metadata": {},
     "output_type": "execute_result"
    }
   ],
   "source": [
    "X_standard = (X - np.mean(X, axis=0)) / (np.std(X, axis=0))\n",
    "X_standard[:5]"
   ]
  },
  {
   "cell_type": "code",
   "execution_count": 11,
   "metadata": {},
   "outputs": [
    {
     "name": "stdout",
     "output_type": "stream",
     "text": [
      "[ -1.99840144e-17   1.33226763e-17]\n",
      "[ 1.  1.]\n"
     ]
    }
   ],
   "source": [
    "print(np.mean(X_standard, axis=0))\n",
    "print(np.std(X_standard, axis=0))"
   ]
  },
  {
   "cell_type": "code",
   "execution_count": 12,
   "metadata": {},
   "outputs": [
    {
     "data": {
      "image/png": "[encoded data removed]",
      "text/plain": [
       "<matplotlib.figure.Figure at 0x7feeeedd21d0>"
      ]
     },
     "metadata": {},
     "output_type": "display_data"
    }
   ],
   "source": [
    "plt.scatter(X_standard[:, 0], X_standard[:, 1])\n",
    "plt.show()"
   ]
  }
 ],
 "metadata": {
  "kernelspec": {
   "display_name": "Python 3",
   "language": "python",
   "name": "python3"
  },
  "language_info": {
   "codemirror_mode": {
    "name": "ipython",
    "version": 3
   },
   "file_extension": ".py",
   "mimetype": "text/x-python",
   "name": "python",
   "nbconvert_exporter": "python",
   "pygments_lexer": "ipython3",
   "version": "3.6.5"
  }
 },
 "nbformat": 4,
 "nbformat_minor": 2
}
